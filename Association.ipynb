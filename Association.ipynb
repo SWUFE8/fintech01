{
 "cells": [
  {
   "cell_type": "markdown",
   "metadata": {},
   "source": [
    "# 关联规则"
   ]
  },
  {
   "cell_type": "code",
   "execution_count": 2,
   "metadata": {},
   "outputs": [],
   "source": [
    "%matplotlib inline\n",
    "import pandas as pd\n",
    "from Apriori import *\n",
    "import matplotlib.pyplot as plt"
   ]
  },
  {
   "cell_type": "markdown",
   "metadata": {},
   "source": [
    "## 数据载入"
   ]
  },
  {
   "cell_type": "markdown",
   "metadata": {},
   "source": [
    "原数据为倒排表数据"
   ]
  },
  {
   "cell_type": "code",
   "execution_count": 3,
   "metadata": {},
   "outputs": [
    {
     "data": {
      "text/html": [
       "<div>\n",
       "<style scoped>\n",
       "    .dataframe tbody tr th:only-of-type {\n",
       "        vertical-align: middle;\n",
       "    }\n",
       "\n",
       "    .dataframe tbody tr th {\n",
       "        vertical-align: top;\n",
       "    }\n",
       "\n",
       "    .dataframe thead th {\n",
       "        text-align: right;\n",
       "    }\n",
       "</style>\n",
       "<table border=\"1\" class=\"dataframe\">\n",
       "  <thead>\n",
       "    <tr style=\"text-align: right;\">\n",
       "      <th></th>\n",
       "      <th>ID</th>\n",
       "      <th>PROD</th>\n",
       "    </tr>\n",
       "  </thead>\n",
       "  <tbody>\n",
       "    <tr>\n",
       "      <th>0</th>\n",
       "      <td>30924038</td>\n",
       "      <td>和动漫</td>\n",
       "    </tr>\n",
       "    <tr>\n",
       "      <th>1</th>\n",
       "      <td>30924038</td>\n",
       "      <td>本地通话</td>\n",
       "    </tr>\n",
       "    <tr>\n",
       "      <th>2</th>\n",
       "      <td>30924038</td>\n",
       "      <td>来电提醒</td>\n",
       "    </tr>\n",
       "    <tr>\n",
       "      <th>3</th>\n",
       "      <td>30924038</td>\n",
       "      <td>飞信</td>\n",
       "    </tr>\n",
       "    <tr>\n",
       "      <th>4</th>\n",
       "      <td>30924062</td>\n",
       "      <td>和动漫</td>\n",
       "    </tr>\n",
       "  </tbody>\n",
       "</table>\n",
       "</div>"
      ],
      "text/plain": [
       "         ID  PROD\n",
       "0  30924038   和动漫\n",
       "1  30924038  本地通话\n",
       "2  30924038  来电提醒\n",
       "3  30924038    飞信\n",
       "4  30924062   和动漫"
      ]
     },
     "execution_count": 3,
     "metadata": {},
     "output_type": "execute_result"
    }
   ],
   "source": [
    "inverted=pd.read_csv('Prod.csv',encoding='gbk')\n",
    "inverted.head()"
   ]
  },
  {
   "cell_type": "markdown",
   "metadata": {},
   "source": [
    "## 数据转换"
   ]
  },
  {
   "cell_type": "markdown",
   "metadata": {},
   "source": [
    "倒排表数据转换为相应的二维列表数据"
   ]
  },
  {
   "cell_type": "code",
   "execution_count": 4,
   "metadata": {},
   "outputs": [
    {
     "name": "stdout",
     "output_type": "stream",
     "text": [
      "inverted index type dataSet\n"
     ]
    },
    {
     "data": {
      "text/plain": [
       "[['MM'],\n",
       " ['国内长途'],\n",
       " ['国内漫游', '国内长途', '彩铃', '本地通话', '短信回执'],\n",
       " ['国内长途'],\n",
       " ['国内长途', '本地通话']]"
      ]
     },
     "execution_count": 4,
     "metadata": {},
     "output_type": "execute_result"
    }
   ],
   "source": [
    "idataset=dataconvert(inverted,tidvar='ID',itemvar='PROD',data_type = 'inverted')\n",
    "idataset[:5]"
   ]
  },
  {
   "cell_type": "markdown",
   "metadata": {},
   "source": [
    "## 关联规则"
   ]
  },
  {
   "cell_type": "markdown",
   "metadata": {},
   "source": [
    "参数说明:\n",
    "\n",
    "+ minSupport:最小支持度阈值\n",
    "+ minConf:最小置信度阈值\n",
    "+ minlen:规则最小长度\n",
    "+ maxlen:规则最大长度"
   ]
  },
  {
   "cell_type": "markdown",
   "metadata": {},
   "source": [
    "这里，minSupport或minConf设定越低，产生的规则越多，计算量也就越大\n",
    "\n",
    "设定参数为:minSupport=0.05,minConf=0.5,minlen=1,maxlen=10"
   ]
  },
  {
   "cell_type": "code",
   "execution_count": 5,
   "metadata": {},
   "outputs": [
    {
     "name": "stdout",
     "output_type": "stream",
     "text": [
      "frozenset({'和视界'}) --> frozenset({'国内长途'}) conf: 0.676923076923077\n",
      "frozenset({'和视界'}) --> frozenset({'本地通话'}) conf: 0.7999999999999999\n",
      "frozenset({'手机报'}) --> frozenset({'本地通话'}) conf: 0.75\n",
      "frozenset({'咪咕阅读'}) --> frozenset({'国内长途'}) conf: 0.553191489361702\n",
      "frozenset({'来电提醒'}) --> frozenset({'国内长途'}) conf: 0.5180722891566265\n",
      "frozenset({'咪咕阅读'}) --> frozenset({'本地通话'}) conf: 0.7659574468085106\n",
      "frozenset({'和动漫'}) --> frozenset({'咪咕阅读'}) conf: 0.6545454545454545\n",
      "frozenset({'咪咕阅读'}) --> frozenset({'来电提醒'}) conf: 0.7978723404255319\n",
      "frozenset({'来电提醒'}) --> frozenset({'咪咕阅读'}) conf: 0.9036144578313253\n",
      "frozenset({'和动漫'}) --> frozenset({'本地通话'}) conf: 0.8363636363636362\n",
      "frozenset({'来电提醒'}) --> frozenset({'本地通话'}) conf: 0.7590361445783131\n",
      "frozenset({'和动漫'}) --> frozenset({'来电提醒'}) conf: 0.7090909090909091\n",
      "frozenset({'咪咕音乐'}) --> frozenset({'本地通话'}) conf: 0.7647058823529412\n",
      "frozenset({'国内漫游'}) --> frozenset({'国内长途'}) conf: 0.5965909090909092\n",
      "frozenset({'本地通话'}) --> frozenset({'国内长途'}) conf: 0.5949119373776908\n",
      "frozenset({'国内长途'}) --> frozenset({'本地通话'}) conf: 0.6770601336302895\n",
      "frozenset({'国内漫游'}) --> frozenset({'本地通话'}) conf: 0.8181818181818182\n",
      "frozenset({'彩铃'}) --> frozenset({'本地通话'}) conf: 0.8297872340425532\n",
      "frozenset({'短信回执'}) --> frozenset({'国内长途'}) conf: 0.5113636363636364\n",
      "frozenset({'短信回执'}) --> frozenset({'本地通话'}) conf: 0.8068181818181818\n",
      "frozenset({'和视界'}) --> frozenset({'国内长途', '本地通话'}) conf: 0.5846153846153846\n",
      "frozenset({'咪咕阅读'}) --> frozenset({'来电提醒', '本地通话'}) conf: 0.6276595744680851\n",
      "frozenset({'来电提醒'}) --> frozenset({'本地通话', '咪咕阅读'}) conf: 0.7108433734939759\n"
     ]
    }
   ],
   "source": [
    "res = arules(idataset,minSupport=0.05,minConf=0.5,minlen=1,maxlen=10)"
   ]
  },
  {
   "cell_type": "markdown",
   "metadata": {},
   "source": [
    "## 产生关联规则"
   ]
  },
  {
   "cell_type": "markdown",
   "metadata": {},
   "source": [
    "+ 规定提升度要大于1,并按照置信度进行排序"
   ]
  },
  {
   "cell_type": "code",
   "execution_count": 6,
   "metadata": {},
   "outputs": [
    {
     "data": {
      "text/html": [
       "<div>\n",
       "<style scoped>\n",
       "    .dataframe tbody tr th:only-of-type {\n",
       "        vertical-align: middle;\n",
       "    }\n",
       "\n",
       "    .dataframe tbody tr th {\n",
       "        vertical-align: top;\n",
       "    }\n",
       "\n",
       "    .dataframe thead th {\n",
       "        text-align: right;\n",
       "    }\n",
       "</style>\n",
       "<table border=\"1\" class=\"dataframe\">\n",
       "  <thead>\n",
       "    <tr style=\"text-align: right;\">\n",
       "      <th></th>\n",
       "      <th>lhs</th>\n",
       "      <th></th>\n",
       "      <th>rhs</th>\n",
       "      <th>support</th>\n",
       "      <th>confidence</th>\n",
       "      <th>lift</th>\n",
       "    </tr>\n",
       "  </thead>\n",
       "  <tbody>\n",
       "    <tr>\n",
       "      <th>14</th>\n",
       "      <td>(本地通话)</td>\n",
       "      <td>==&gt;</td>\n",
       "      <td>(国内长途)</td>\n",
       "      <td>0.422222</td>\n",
       "      <td>0.594912</td>\n",
       "      <td>1.409002</td>\n",
       "    </tr>\n",
       "    <tr>\n",
       "      <th>15</th>\n",
       "      <td>(国内长途)</td>\n",
       "      <td>==&gt;</td>\n",
       "      <td>(本地通话)</td>\n",
       "      <td>0.422222</td>\n",
       "      <td>0.677060</td>\n",
       "      <td>1.603563</td>\n",
       "    </tr>\n",
       "    <tr>\n",
       "      <th>16</th>\n",
       "      <td>(国内漫游)</td>\n",
       "      <td>==&gt;</td>\n",
       "      <td>(本地通话)</td>\n",
       "      <td>0.200000</td>\n",
       "      <td>0.818182</td>\n",
       "      <td>4.090909</td>\n",
       "    </tr>\n",
       "    <tr>\n",
       "      <th>13</th>\n",
       "      <td>(国内漫游)</td>\n",
       "      <td>==&gt;</td>\n",
       "      <td>(国内长途)</td>\n",
       "      <td>0.145833</td>\n",
       "      <td>0.596591</td>\n",
       "      <td>4.090909</td>\n",
       "    </tr>\n",
       "    <tr>\n",
       "      <th>12</th>\n",
       "      <td>(咪咕音乐)</td>\n",
       "      <td>==&gt;</td>\n",
       "      <td>(本地通话)</td>\n",
       "      <td>0.108333</td>\n",
       "      <td>0.764706</td>\n",
       "      <td>7.058824</td>\n",
       "    </tr>\n",
       "    <tr>\n",
       "      <th>7</th>\n",
       "      <td>(咪咕阅读)</td>\n",
       "      <td>==&gt;</td>\n",
       "      <td>(来电提醒)</td>\n",
       "      <td>0.104167</td>\n",
       "      <td>0.797872</td>\n",
       "      <td>7.659574</td>\n",
       "    </tr>\n",
       "    <tr>\n",
       "      <th>8</th>\n",
       "      <td>(来电提醒)</td>\n",
       "      <td>==&gt;</td>\n",
       "      <td>(咪咕阅读)</td>\n",
       "      <td>0.104167</td>\n",
       "      <td>0.903614</td>\n",
       "      <td>8.674699</td>\n",
       "    </tr>\n",
       "    <tr>\n",
       "      <th>5</th>\n",
       "      <td>(咪咕阅读)</td>\n",
       "      <td>==&gt;</td>\n",
       "      <td>(本地通话)</td>\n",
       "      <td>0.100000</td>\n",
       "      <td>0.765957</td>\n",
       "      <td>7.659574</td>\n",
       "    </tr>\n",
       "    <tr>\n",
       "      <th>19</th>\n",
       "      <td>(短信回执)</td>\n",
       "      <td>==&gt;</td>\n",
       "      <td>(本地通话)</td>\n",
       "      <td>0.098611</td>\n",
       "      <td>0.806818</td>\n",
       "      <td>8.181818</td>\n",
       "    </tr>\n",
       "    <tr>\n",
       "      <th>10</th>\n",
       "      <td>(来电提醒)</td>\n",
       "      <td>==&gt;</td>\n",
       "      <td>(本地通话)</td>\n",
       "      <td>0.087500</td>\n",
       "      <td>0.759036</td>\n",
       "      <td>8.674699</td>\n",
       "    </tr>\n",
       "    <tr>\n",
       "      <th>22</th>\n",
       "      <td>(来电提醒)</td>\n",
       "      <td>==&gt;</td>\n",
       "      <td>(本地通话, 咪咕阅读)</td>\n",
       "      <td>0.081944</td>\n",
       "      <td>0.710843</td>\n",
       "      <td>8.674699</td>\n",
       "    </tr>\n",
       "    <tr>\n",
       "      <th>21</th>\n",
       "      <td>(咪咕阅读)</td>\n",
       "      <td>==&gt;</td>\n",
       "      <td>(来电提醒, 本地通话)</td>\n",
       "      <td>0.081944</td>\n",
       "      <td>0.627660</td>\n",
       "      <td>7.659574</td>\n",
       "    </tr>\n",
       "    <tr>\n",
       "      <th>3</th>\n",
       "      <td>(咪咕阅读)</td>\n",
       "      <td>==&gt;</td>\n",
       "      <td>(国内长途)</td>\n",
       "      <td>0.072222</td>\n",
       "      <td>0.553191</td>\n",
       "      <td>7.659574</td>\n",
       "    </tr>\n",
       "    <tr>\n",
       "      <th>1</th>\n",
       "      <td>(和视界)</td>\n",
       "      <td>==&gt;</td>\n",
       "      <td>(本地通话)</td>\n",
       "      <td>0.072222</td>\n",
       "      <td>0.800000</td>\n",
       "      <td>11.076923</td>\n",
       "    </tr>\n",
       "    <tr>\n",
       "      <th>9</th>\n",
       "      <td>(和动漫)</td>\n",
       "      <td>==&gt;</td>\n",
       "      <td>(本地通话)</td>\n",
       "      <td>0.063889</td>\n",
       "      <td>0.836364</td>\n",
       "      <td>13.090909</td>\n",
       "    </tr>\n",
       "    <tr>\n",
       "      <th>18</th>\n",
       "      <td>(短信回执)</td>\n",
       "      <td>==&gt;</td>\n",
       "      <td>(国内长途)</td>\n",
       "      <td>0.062500</td>\n",
       "      <td>0.511364</td>\n",
       "      <td>8.181818</td>\n",
       "    </tr>\n",
       "    <tr>\n",
       "      <th>0</th>\n",
       "      <td>(和视界)</td>\n",
       "      <td>==&gt;</td>\n",
       "      <td>(国内长途)</td>\n",
       "      <td>0.061111</td>\n",
       "      <td>0.676923</td>\n",
       "      <td>11.076923</td>\n",
       "    </tr>\n",
       "    <tr>\n",
       "      <th>4</th>\n",
       "      <td>(来电提醒)</td>\n",
       "      <td>==&gt;</td>\n",
       "      <td>(国内长途)</td>\n",
       "      <td>0.059722</td>\n",
       "      <td>0.518072</td>\n",
       "      <td>8.674699</td>\n",
       "    </tr>\n",
       "    <tr>\n",
       "      <th>17</th>\n",
       "      <td>(彩铃)</td>\n",
       "      <td>==&gt;</td>\n",
       "      <td>(本地通话)</td>\n",
       "      <td>0.054167</td>\n",
       "      <td>0.829787</td>\n",
       "      <td>15.319149</td>\n",
       "    </tr>\n",
       "    <tr>\n",
       "      <th>11</th>\n",
       "      <td>(和动漫)</td>\n",
       "      <td>==&gt;</td>\n",
       "      <td>(来电提醒)</td>\n",
       "      <td>0.054167</td>\n",
       "      <td>0.709091</td>\n",
       "      <td>13.090909</td>\n",
       "    </tr>\n",
       "  </tbody>\n",
       "</table>\n",
       "</div>"
      ],
      "text/plain": [
       "       lhs                rhs   support  confidence       lift\n",
       "14  (本地通话)  ==>        (国内长途)  0.422222    0.594912   1.409002\n",
       "15  (国内长途)  ==>        (本地通话)  0.422222    0.677060   1.603563\n",
       "16  (国内漫游)  ==>        (本地通话)  0.200000    0.818182   4.090909\n",
       "13  (国内漫游)  ==>        (国内长途)  0.145833    0.596591   4.090909\n",
       "12  (咪咕音乐)  ==>        (本地通话)  0.108333    0.764706   7.058824\n",
       "7   (咪咕阅读)  ==>        (来电提醒)  0.104167    0.797872   7.659574\n",
       "8   (来电提醒)  ==>        (咪咕阅读)  0.104167    0.903614   8.674699\n",
       "5   (咪咕阅读)  ==>        (本地通话)  0.100000    0.765957   7.659574\n",
       "19  (短信回执)  ==>        (本地通话)  0.098611    0.806818   8.181818\n",
       "10  (来电提醒)  ==>        (本地通话)  0.087500    0.759036   8.674699\n",
       "22  (来电提醒)  ==>  (本地通话, 咪咕阅读)  0.081944    0.710843   8.674699\n",
       "21  (咪咕阅读)  ==>  (来电提醒, 本地通话)  0.081944    0.627660   7.659574\n",
       "3   (咪咕阅读)  ==>        (国内长途)  0.072222    0.553191   7.659574\n",
       "1    (和视界)  ==>        (本地通话)  0.072222    0.800000  11.076923\n",
       "9    (和动漫)  ==>        (本地通话)  0.063889    0.836364  13.090909\n",
       "18  (短信回执)  ==>        (国内长途)  0.062500    0.511364   8.181818\n",
       "0    (和视界)  ==>        (国内长途)  0.061111    0.676923  11.076923\n",
       "4   (来电提醒)  ==>        (国内长途)  0.059722    0.518072   8.674699\n",
       "17    (彩铃)  ==>        (本地通话)  0.054167    0.829787  15.319149\n",
       "11   (和动漫)  ==>        (来电提醒)  0.054167    0.709091  13.090909"
      ]
     },
     "execution_count": 6,
     "metadata": {},
     "output_type": "execute_result"
    }
   ],
   "source": [
    "res.loc[res.lift>1,:].sort_values('support',ascending=False).head(20)"
   ]
  },
  {
   "cell_type": "markdown",
   "metadata": {},
   "source": [
    "## 关联规则结果汇总"
   ]
  },
  {
   "cell_type": "code",
   "execution_count": 7,
   "metadata": {},
   "outputs": [
    {
     "data": {
      "text/plain": [
       "Text(0, 0.5, 'confidence')"
      ]
     },
     "execution_count": 7,
     "metadata": {},
     "output_type": "execute_result"
    },
    {
     "data": {
      "image/png": "[encoded data removed]",
      "text/plain": [
       "<Figure size 288x288 with 2 Axes>"
      ]
     },
     "metadata": {
      "needs_background": "light"
     },
     "output_type": "display_data"
    }
   ],
   "source": [
    "res.plot.scatter(3,4,c=5,figsize=(4,4))\n",
    "plt.xlabel('support')\n",
    "plt.ylabel('confidence')"
   ]
  },
  {
   "cell_type": "code",
   "execution_count": null,
   "metadata": {
    "collapsed": true
   },
   "outputs": [],
   "source": []
  }
 ],
 "metadata": {
  "anaconda-cloud": {},
  "kernelspec": {
   "display_name": "Python 3",
   "language": "python",
   "name": "python3"
  },
  "language_info": {
   "codemirror_mode": {
    "name": "ipython",
    "version": 3
   },
   "file_extension": ".py",
   "mimetype": "text/x-python",
   "name": "python",
   "nbconvert_exporter": "python",
   "pygments_lexer": "ipython3",
   "version": "3.6.7"
  },
  "toc": {
   "colors": {
    "hover_highlight": "#DAA520",
    "running_highlight": "#FF0000",
    "selected_highlight": "#FFD700"
   },
   "moveMenuLeft": true,
   "nav_menu": {
    "height": "120px",
    "width": "252px"
   },
   "navigate_menu": true,
   "number_sections": true,
   "sideBar": true,
   "threshold": 4,
   "toc_cell": false,
   "toc_section_display": "block",
   "toc_window_display": false
  }
 },
 "nbformat": 4,
 "nbformat_minor": 2
}
