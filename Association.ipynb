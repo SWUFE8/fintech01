{
 "cells": [
  {
   "cell_type": "code",
   "execution_count": 1,
   "metadata": {},
   "outputs": [
    {
     "name": "stdout",
     "output_type": "stream",
     "text": [
      "\u001b[33mDEPRECATION: Python 2.7 will reach the end of its life on January 1st, 2020. Please upgrade your Python as Python 2.7 won't be maintained after that date. A future version of pip will drop support for Python 2.7. More details about Python 2 support in pip, can be found at https://pip.pypa.io/en/latest/development/release-process/#python-2-support\u001b[0m\n",
      "Collecting efficient-apriori\n",
      "  Downloading https://files.pythonhosted.org/packages/a1/fe/938543de87aca9ac8f681a4fc940e604d1010cf7936f6014bdca1924a166/efficient_apriori-1.0.0.tar.gz\n",
      "\u001b[31m    ERROR: Command errored out with exit status 1:\n",
      "     command: /System/Library/Frameworks/Python.framework/Versions/2.7/Resources/Python.app/Contents/MacOS/Python -c 'import sys, setuptools, tokenize; sys.argv[0] = '\"'\"'/private/var/folders/1k/3g7w49vx4z32f282lr8w_rlh0000gn/T/pip-install-mdx9K9/efficient-apriori/setup.py'\"'\"'; __file__='\"'\"'/private/var/folders/1k/3g7w49vx4z32f282lr8w_rlh0000gn/T/pip-install-mdx9K9/efficient-apriori/setup.py'\"'\"';f=getattr(tokenize, '\"'\"'open'\"'\"', open)(__file__);code=f.read().replace('\"'\"'\\r\\n'\"'\"', '\"'\"'\\n'\"'\"');f.close();exec(compile(code, __file__, '\"'\"'exec'\"'\"'))' egg_info --egg-base /private/var/folders/1k/3g7w49vx4z32f282lr8w_rlh0000gn/T/pip-install-mdx9K9/efficient-apriori/pip-egg-info\n",
      "         cwd: /private/var/folders/1k/3g7w49vx4z32f282lr8w_rlh0000gn/T/pip-install-mdx9K9/efficient-apriori/\n",
      "    Complete output (10 lines):\n",
      "    Traceback (most recent call last):\n",
      "      File \"<string>\", line 1, in <module>\n",
      "      File \"/private/var/folders/1k/3g7w49vx4z32f282lr8w_rlh0000gn/T/pip-install-mdx9K9/efficient-apriori/setup.py\", line 16, in <module>\n",
      "        from efficient_apriori import __version__\n",
      "      File \"efficient_apriori/__init__.py\", line 12, in <module>\n",
      "        from efficient_apriori.apriori import apriori\n",
      "      File \"efficient_apriori/apriori.py\", line 13\n",
      "        transactions: typing.List[tuple],\n",
      "                    ^\n",
      "    SyntaxError: invalid syntax\n",
      "    ----------------------------------------\u001b[0m\n",
      "\u001b[31mERROR: Command errored out with exit status 1: python setup.py egg_info Check the logs for full command output.\u001b[0m\n"
     ]
    }
   ],
   "source": [
    "!pip install efficient-apriori"
   ]
  },
  {
   "cell_type": "code",
   "execution_count": 1,
   "metadata": {
    "collapsed": true
   },
   "outputs": [],
   "source": [
    "from efficient_apriori import apriori\n",
    "#pip install efficient-apriori"
   ]
  },
  {
   "cell_type": "code",
   "execution_count": 3,
   "metadata": {},
   "outputs": [],
   "source": [
    "transactions=[(\"面包\", \"牛奶\"), \n",
    "             (\"面包\", \"啤酒\", \"尿布\", \"鸡蛋\"),\n",
    "             (\"牛奶\", \"啤酒\", \"尿布\", \"可乐\"),\n",
    "             (\"面包\", \"香肠\", \"尿布\", \"啤酒\"),\n",
    "             (\"面包\", \"牛奶\", \"尿布\", \"可乐\")]"
   ]
  },
  {
   "cell_type": "code",
   "execution_count": 5,
   "metadata": {},
   "outputs": [],
   "source": [
    "itemsets, rules=apriori(transactions, min_support=0.5, min_confidence=1)"
   ]
  },
  {
   "cell_type": "code",
   "execution_count": 6,
   "metadata": {},
   "outputs": [
    {
     "data": {
      "text/plain": [
       "[{啤酒} -> {尿布}]"
      ]
     },
     "execution_count": 6,
     "metadata": {},
     "output_type": "execute_result"
    }
   ],
   "source": [
    "rules"
   ]
  },
  {
   "cell_type": "code",
   "execution_count": 7,
   "metadata": {},
   "outputs": [
    {
     "data": {
      "text/plain": [
       "{1: {('啤酒',): 3, ('尿布',): 4, ('牛奶',): 3, ('面包',): 4},\n",
       " 2: {('啤酒', '尿布'): 3, ('尿布', '面包'): 3}}"
      ]
     },
     "execution_count": 7,
     "metadata": {},
     "output_type": "execute_result"
    }
   ],
   "source": [
    "itemsets"
   ]
  },
  {
   "cell_type": "code",
   "execution_count": null,
   "metadata": {
    "collapsed": true
   },
   "outputs": [],
   "source": []
  }
 ],
 "metadata": {
  "kernelspec": {
   "display_name": "Python 3",
   "language": "python",
   "name": "python3"
  },
  "language_info": {
   "codemirror_mode": {
    "name": "ipython",
    "version": 3
   },
   "file_extension": ".py",
   "mimetype": "text/x-python",
   "name": "python",
   "nbconvert_exporter": "python",
   "pygments_lexer": "ipython3",
   "version": "3.6.5"
  }
 },
 "nbformat": 4,
 "nbformat_minor": 2
}
